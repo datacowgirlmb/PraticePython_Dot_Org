{
 "cells": [
  {
   "cell_type": "markdown",
   "id": "5b99c4c9",
   "metadata": {},
   "source": [
    "# PracticePython.org\n",
    "# Ex. 17: Decode a Webpage"
   ]
  },
  {
   "cell_type": "code",
   "execution_count": 3,
   "id": "be0914c1",
   "metadata": {},
   "outputs": [],
   "source": [
    "import requests\n",
    "from bs4 import BeautifulSoup"
   ]
  },
  {
   "cell_type": "code",
   "execution_count": 4,
   "id": "883beb5c",
   "metadata": {},
   "outputs": [],
   "source": [
    "# Set up request\n",
    "url = 'https://www.nytimes.com'\n",
    "response = requests.get(url)"
   ]
  },
  {
   "cell_type": "code",
   "execution_count": 5,
   "id": "63bb7b8d",
   "metadata": {},
   "outputs": [],
   "source": [
    "# Parse HTML text with BeautifulSoup\n",
    "soup = BeautifulSoup(response.content, 'lxml')"
   ]
  },
  {
   "cell_type": "code",
   "execution_count": 6,
   "id": "821aa30b",
   "metadata": {},
   "outputs": [
    {
     "data": {
      "text/plain": [
       "'The New York Times - Breaking News, US News, World News and Videos'"
      ]
     },
     "execution_count": 6,
     "metadata": {},
     "output_type": "execute_result"
    }
   ],
   "source": [
    "# Get page title\n",
    "title = soup.find('title').string\n",
    "title"
   ]
  },
  {
   "cell_type": "code",
   "execution_count": 7,
   "id": "00714601",
   "metadata": {},
   "outputs": [
    {
     "name": "stdout",
     "output_type": "stream",
     "text": [
      "----------\n",
      "U.S. Sees More Russian Troops Massing; Moscow Hints at Diplomatic Opening\n",
      "----------\n",
      "In Standoff With Russia, U.S. Makes Sure to Include European Allies\n",
      "----------\n",
      "See where Russia has increased its military buildup near the Ukrainian border.\n",
      "----------\n",
      "A new but well-prepared “NATO nerd” is trying to unite U.S. allies in a crisis.\n",
      "----------\n",
      "Wages Rise at Fastest Pace Since 2002 as Inflation Continues to Run Hot\n",
      "----------\n",
      "Business updates: Stocks slipped as investors weighed new inflation data.\n",
      "----------\n",
      "Consumer spending fell in December as Omicron spread.\n",
      "----------\n",
      "The Battle for the World’s Most Powerful Cyberweapon\n",
      "----------\n",
      "Here’s what we learned about Pegasus, the smartphone cracker, from our Times Magazine investigation.\n",
      "----------\n",
      "Ten Billion Vaccine Doses Have Been Administered Globally\n",
      "----------\n",
      "As India’s Schools Stay Closed, Hopes Fade for a Lost Generation\n",
      "----------\n",
      "Sarah Palin, who is unvaccinated, dined outdoors in New York City only days after testing positive.\n",
      "----------\n",
      "U.S. hot spots ›\n",
      "----------\n",
      "Funeral for Officer Killed in Harlem Shooting Begins\n",
      "----------\n",
      "On Patrol: 12 Days With a Taliban Police Unit in Kabul\n",
      "----------\n",
      "Lori Lightfoot Promised to Change Chicago. Crises Keep Piling Up.\n",
      "----------\n",
      "Sixteen Men Died in New York City Jails Last Year. Who Were They?\n",
      "----------\n",
      "New York Could Get No Snow, or Over a Foot. See the Odds Near You.\n",
      "----------\n",
      "Blizzard conditions were expected from Long Island through much of coastal New England over the weekend.\n",
      "----------\n",
      "How Joel Coen Came to Make ‘The Tragedy of Macbeth’\n",
      "----------\n",
      "Why is everyone going to the Dominican Republic?\n",
      "----------\n",
      "Modern Love: What he hadn’t told me.\n",
      "----------\n"
     ]
    },
    {
     "ename": "AttributeError",
     "evalue": "'NoneType' object has no attribute 'get_text'",
     "output_type": "error",
     "traceback": [
      "\u001b[1;31m---------------------------------------------------------------------------\u001b[0m",
      "\u001b[1;31mAttributeError\u001b[0m                            Traceback (most recent call last)",
      "\u001b[1;32m<ipython-input-7-68dbf57df661>\u001b[0m in \u001b[0;36m<module>\u001b[1;34m\u001b[0m\n\u001b[0;32m      4\u001b[0m     \u001b[0mprint\u001b[0m\u001b[1;33m(\u001b[0m\u001b[1;34m'----------'\u001b[0m\u001b[1;33m)\u001b[0m\u001b[1;33m\u001b[0m\u001b[1;33m\u001b[0m\u001b[0m\n\u001b[0;32m      5\u001b[0m     \u001b[0mheadline\u001b[0m \u001b[1;33m=\u001b[0m \u001b[0mstory\u001b[0m\u001b[1;33m.\u001b[0m\u001b[0mfind\u001b[0m\u001b[1;33m(\u001b[0m\u001b[1;34m'h3'\u001b[0m\u001b[1;33m)\u001b[0m\u001b[1;33m\u001b[0m\u001b[1;33m\u001b[0m\u001b[0m\n\u001b[1;32m----> 6\u001b[1;33m     \u001b[0mprint\u001b[0m\u001b[1;33m(\u001b[0m\u001b[0mheadline\u001b[0m\u001b[1;33m.\u001b[0m\u001b[0mget_text\u001b[0m\u001b[1;33m(\u001b[0m\u001b[1;33m)\u001b[0m\u001b[1;33m)\u001b[0m\u001b[1;33m\u001b[0m\u001b[1;33m\u001b[0m\u001b[0m\n\u001b[0m",
      "\u001b[1;31mAttributeError\u001b[0m: 'NoneType' object has no attribute 'get_text'"
     ]
    }
   ],
   "source": [
    "story = soup.find_all(class_='story-wrapper')\n",
    "\n",
    "for story in story:\n",
    "    print('----------')\n",
    "    headline = story.find('h3')\n",
    "    print(headline.get_text())"
   ]
  },
  {
   "cell_type": "code",
   "execution_count": null,
   "id": "241384ec",
   "metadata": {},
   "outputs": [],
   "source": []
  }
 ],
 "metadata": {
  "kernelspec": {
   "display_name": "Python 3",
   "language": "python",
   "name": "python3"
  },
  "language_info": {
   "codemirror_mode": {
    "name": "ipython",
    "version": 3
   },
   "file_extension": ".py",
   "mimetype": "text/x-python",
   "name": "python",
   "nbconvert_exporter": "python",
   "pygments_lexer": "ipython3",
   "version": "3.8.8"
  }
 },
 "nbformat": 4,
 "nbformat_minor": 5
}
